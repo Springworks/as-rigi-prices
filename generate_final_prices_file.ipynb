{
 "cells": [
  {
   "cell_type": "code",
   "execution_count": 1,
   "id": "7f5da178",
   "metadata": {},
   "outputs": [],
   "source": [
    "import pandas as pd"
   ]
  },
  {
   "cell_type": "markdown",
   "id": "f2d30c60",
   "metadata": {},
   "source": [
    "# Import price file"
   ]
  },
  {
   "cell_type": "code",
   "execution_count": 2,
   "id": "9af2460d",
   "metadata": {},
   "outputs": [
    {
     "data": {
      "text/html": [
       "<div>\n",
       "<style scoped>\n",
       "    .dataframe tbody tr th:only-of-type {\n",
       "        vertical-align: middle;\n",
       "    }\n",
       "\n",
       "    .dataframe tbody tr th {\n",
       "        vertical-align: top;\n",
       "    }\n",
       "\n",
       "    .dataframe thead th {\n",
       "        text-align: right;\n",
       "    }\n",
       "</style>\n",
       "<table border=\"1\" class=\"dataframe\">\n",
       "  <thead>\n",
       "    <tr style=\"text-align: right;\">\n",
       "      <th></th>\n",
       "      <th>external_id</th>\n",
       "      <th>ac_session_price</th>\n",
       "      <th>ac_price</th>\n",
       "      <th>ac_time_price</th>\n",
       "      <th>ac_fair_use_price</th>\n",
       "      <th>dc_session_price</th>\n",
       "      <th>dc_price</th>\n",
       "      <th>dc_time_price</th>\n",
       "      <th>dc_fair_use_price</th>\n",
       "    </tr>\n",
       "  </thead>\n",
       "  <tbody>\n",
       "    <tr>\n",
       "      <th>0</th>\n",
       "      <td>0</td>\n",
       "      <td>1.500 CHF</td>\n",
       "      <td>0.740 CHF</td>\n",
       "      <td>0.000 CHF</td>\n",
       "      <td>0</td>\n",
       "      <td>1.500 CHF</td>\n",
       "      <td>0.780 CHF</td>\n",
       "      <td>0.000 CHF</td>\n",
       "      <td>0</td>\n",
       "    </tr>\n",
       "    <tr>\n",
       "      <th>1</th>\n",
       "      <td>DEALL</td>\n",
       "      <td>1.500 CHF</td>\n",
       "      <td>0.540 CHF</td>\n",
       "      <td>0.000 CHF</td>\n",
       "      <td>0</td>\n",
       "      <td>1.500 CHF</td>\n",
       "      <td>0.540 CHF</td>\n",
       "      <td>0.000 CHF</td>\n",
       "      <td>0</td>\n",
       "    </tr>\n",
       "    <tr>\n",
       "      <th>2</th>\n",
       "      <td>IT*AXS</td>\n",
       "      <td>1.500 CHF</td>\n",
       "      <td>0.610 CHF</td>\n",
       "      <td>0.000 CHF</td>\n",
       "      <td>0</td>\n",
       "      <td>1.500 CHF</td>\n",
       "      <td>0.870 CHF</td>\n",
       "      <td>0.000 CHF</td>\n",
       "      <td>0</td>\n",
       "    </tr>\n",
       "  </tbody>\n",
       "</table>\n",
       "</div>"
      ],
      "text/plain": [
       "  external_id ac_session_price   ac_price ac_time_price ac_fair_use_price  \\\n",
       "0           0        1.500 CHF  0.740 CHF     0.000 CHF                 0   \n",
       "1       DEALL        1.500 CHF  0.540 CHF     0.000 CHF                 0   \n",
       "2      IT*AXS        1.500 CHF  0.610 CHF     0.000 CHF                 0   \n",
       "\n",
       "  dc_session_price   dc_price dc_time_price dc_fair_use_price  \n",
       "0        1.500 CHF  0.780 CHF     0.000 CHF                 0  \n",
       "1        1.500 CHF  0.540 CHF     0.000 CHF                 0  \n",
       "2        1.500 CHF  0.870 CHF     0.000 CHF                 0  "
      ]
     },
     "execution_count": 2,
     "metadata": {},
     "output_type": "execute_result"
    }
   ],
   "source": [
    "columns = {\n",
    "    'external ID': 'external_id',\n",
    "    'Session fee.3': 'ac_session_price',\n",
    "    'kwh.3': 'ac_price',\n",
    "    'min.3': 'ac_time_price',\n",
    "    'Fair Use [min].5': 'ac_fair_use_price',\n",
    "    'Session fee.4': 'dc_session_price',\n",
    "    'kwh.4': 'dc_price',\n",
    "    'min.4': 'dc_time_price',\n",
    "    'Fair Use [min].6': 'dc_fair_use_price'\n",
    "}\n",
    "\n",
    "raw = pd.read_csv('rigi_pricing.csv', header=1)\n",
    "raw = raw.rename(columns=columns)[list(columns.values())]\n",
    "\n",
    "raw.head(3)"
   ]
  },
  {
   "cell_type": "markdown",
   "id": "fc69b099",
   "metadata": {},
   "source": [
    "### Drop specific rows"
   ]
  },
  {
   "cell_type": "code",
   "execution_count": 3,
   "id": "b27a1baa",
   "metadata": {},
   "outputs": [
    {
     "name": "stdout",
     "output_type": "stream",
     "text": [
      "   external_id   ac_price\n",
      "0            0  0.740 CHF\n",
      "1        DEALL  0.540 CHF\n",
      "2       IT*AXS  0.610 CHF\n",
      "3       IT*BEC  0.610 CHF\n",
      "4       BE*BCA  0.610 CHF\n",
      "5       DE*RBO  0.610 CHF\n",
      "6       CZ*CEZ  0.610 CHF\n",
      "7       DE*BDO  0.540 CHF\n",
      "8       LU*CHY  0.760 CHF\n",
      "9       DK*CLE  0.760 CHF\n",
      "10       DECCH  0.820 CHF\n",
      "11      DE*ISE  0.520 CHF\n",
      "12      IT*DUF  0.720 CHF\n",
      "13      DE*EDR  0.580 CHF\n",
      "14      DE*ICT  0.520 CHF\n",
      "15      CZ*EON  0.690 CHF\n",
      "16      CH*ECU  0.740 CHF\n",
      "17      DE*384  0.480 CHF\n",
      "18      HU*ELM  0.490 CHF\n",
      "19      IT*EMO  0.620 CHF\n",
      "20      DE*EBW  0.530 CHF\n",
      "21      IT*ELX  0.640 CHF\n",
      "22      DE*ENC  0.480 CHF\n",
      "23      AT*EST  0.530 CHF\n",
      "24      CH*IBA  0.430 CHF\n",
      "25      DE*WAY  0.640 CHF\n",
      "26       ESGIC  0.650 CHF\n",
      "27       CHEVP  0.840 CHF\n",
      "28      NL*GFX  0.430 CHF\n",
      "29      DE*GUC  0.570 CHF\n",
      "30      AT*HTB  0.640 CHF\n",
      "31      DE*730  0.060 CHF\n",
      "32      IT*HRA  0.720 CHF\n",
      "33       HR005  0.430 CHF\n",
      "34      ES*IBD  0.650 CHF\n",
      "35      ES*IBL  0.570 CHF\n",
      "36      DE*VKW  0.560 CHF\n",
      "37      DE*BLN  0.580 CHF\n",
      "38      DE*ION  0.930 CHF\n",
      "39      IT*JOI  0.650 CHF\n",
      "40     +49*861  0.610 CHF\n",
      "41      LI*LKW  0.560 CHF\n",
      "42      FI*001  0.610 CHF\n",
      "43      DE*MEG  0.450 CHF\n",
      "44      CH*CCI  0.780 CHF\n",
      "45      GB*OSP  0.700 CHF\n",
      "46      CZ*PRE  0.480 CHF\n",
      "47      DE*Q1E  0.600 CHF\n",
      "48      DE*QWC  0.550 CHF\n",
      "49      DE*ONE  0.560 CHF\n",
      "50      RO*RNV  0.580 CHF\n",
      "51      CH*REP  0.860 CHF\n",
      "52      IT*REV  0.580 CHF\n",
      "53      IT*220  0.720 CHF\n",
      "54      SK*SEK  0.390 CHF\n",
      "55      DK*SPI  0.550 CHF\n",
      "56      DE*TTC  0.490 CHF\n",
      "57      NL*LMS  0.480 CHF\n",
      "58      AT*TWG  0.060 CHF\n",
      "59      DE*GCE  0.580 CHF\n",
      "60      DE*WLB  0.580 CHF\n",
      "61      DE*WLN  0.530 CHF\n",
      "62      SK*EON  0.530 CHF\n",
      "63         SNH    #VALUE!\n",
      "64      DE*SNH  0.690 CHF\n",
      "65      DE*2GO  0.640 CHF\n",
      "66      DE*SNH  0.490 CHF\n",
      "67      CH*GOF  0.540 CHF\n",
      "68       CHEVP  0.540 CHF\n",
      "69      CH*AMA  0.540 CHF\n",
      "70      CH*AMA        NaN\n",
      "71      CH*AMA  0.450 CHF\n"
     ]
    }
   ],
   "source": [
    "# Investigate what rows should be eliminated\n",
    "with pd.option_context('display.max_rows', None):  # more options can be specified also\n",
    "    print(raw[['external_id','ac_price']])"
   ]
  },
  {
   "cell_type": "code",
   "execution_count": 4,
   "id": "e1ee9fd3",
   "metadata": {},
   "outputs": [],
   "source": [
    "raw = raw.drop(0) # fallback price, added somewhere else\n",
    "raw = raw.drop(63) # divider row\n",
    "raw = raw.drop(70) # divider row"
   ]
  },
  {
   "cell_type": "code",
   "execution_count": 5,
   "id": "41cf91d5",
   "metadata": {},
   "outputs": [
    {
     "data": {
      "text/html": [
       "<div>\n",
       "<style scoped>\n",
       "    .dataframe tbody tr th:only-of-type {\n",
       "        vertical-align: middle;\n",
       "    }\n",
       "\n",
       "    .dataframe tbody tr th {\n",
       "        vertical-align: top;\n",
       "    }\n",
       "\n",
       "    .dataframe thead th {\n",
       "        text-align: right;\n",
       "    }\n",
       "</style>\n",
       "<table border=\"1\" class=\"dataframe\">\n",
       "  <thead>\n",
       "    <tr style=\"text-align: right;\">\n",
       "      <th></th>\n",
       "      <th>external_id</th>\n",
       "      <th>ac_session_price</th>\n",
       "      <th>ac_price</th>\n",
       "      <th>ac_time_price</th>\n",
       "      <th>ac_fair_use_price</th>\n",
       "      <th>dc_session_price</th>\n",
       "      <th>dc_price</th>\n",
       "      <th>dc_time_price</th>\n",
       "      <th>dc_fair_use_price</th>\n",
       "    </tr>\n",
       "  </thead>\n",
       "  <tbody>\n",
       "    <tr>\n",
       "      <th>27</th>\n",
       "      <td>CHEVP</td>\n",
       "      <td>1.500 CHF</td>\n",
       "      <td>0.840 CHF</td>\n",
       "      <td>0.000 CHF</td>\n",
       "      <td>0</td>\n",
       "      <td>1.500 CHF</td>\n",
       "      <td>0.970 CHF</td>\n",
       "      <td>0.000 CHF</td>\n",
       "      <td>0</td>\n",
       "    </tr>\n",
       "    <tr>\n",
       "      <th>64</th>\n",
       "      <td>DE*SNH</td>\n",
       "      <td>1.500 CHF</td>\n",
       "      <td>0.690 CHF</td>\n",
       "      <td>0.000 CHF</td>\n",
       "      <td>0</td>\n",
       "      <td>1.500 CHF</td>\n",
       "      <td>0.800 CHF</td>\n",
       "      <td>0.000 CHF</td>\n",
       "      <td>0</td>\n",
       "    </tr>\n",
       "    <tr>\n",
       "      <th>66</th>\n",
       "      <td>DE*SNH</td>\n",
       "      <td>2.700 CHF</td>\n",
       "      <td>0.490 CHF</td>\n",
       "      <td>0.000 CHF</td>\n",
       "      <td>0</td>\n",
       "      <td>2.700 CHF</td>\n",
       "      <td>0.650 CHF</td>\n",
       "      <td>0.000 CHF</td>\n",
       "      <td>0</td>\n",
       "    </tr>\n",
       "    <tr>\n",
       "      <th>68</th>\n",
       "      <td>CHEVP</td>\n",
       "      <td>1.500 CHF</td>\n",
       "      <td>0.540 CHF</td>\n",
       "      <td>0.000 CHF</td>\n",
       "      <td>0</td>\n",
       "      <td>1.500 CHF</td>\n",
       "      <td>0.540 CHF</td>\n",
       "      <td>0.000 CHF</td>\n",
       "      <td>0</td>\n",
       "    </tr>\n",
       "    <tr>\n",
       "      <th>69</th>\n",
       "      <td>CH*AMA</td>\n",
       "      <td>1.500 CHF</td>\n",
       "      <td>0.540 CHF</td>\n",
       "      <td>0.000 CHF</td>\n",
       "      <td>0</td>\n",
       "      <td>1.500 CHF</td>\n",
       "      <td>0.540 CHF</td>\n",
       "      <td>0.200 CHF</td>\n",
       "      <td>60</td>\n",
       "    </tr>\n",
       "    <tr>\n",
       "      <th>71</th>\n",
       "      <td>CH*AMA</td>\n",
       "      <td>1.500 CHF</td>\n",
       "      <td>0.450 CHF</td>\n",
       "      <td>0.000 CHF</td>\n",
       "      <td>0</td>\n",
       "      <td>1.500 CHF</td>\n",
       "      <td>0.450 CHF</td>\n",
       "      <td>0.200 CHF</td>\n",
       "      <td>60</td>\n",
       "    </tr>\n",
       "  </tbody>\n",
       "</table>\n",
       "</div>"
      ],
      "text/plain": [
       "   external_id ac_session_price   ac_price ac_time_price ac_fair_use_price  \\\n",
       "27       CHEVP        1.500 CHF  0.840 CHF     0.000 CHF                 0   \n",
       "64      DE*SNH        1.500 CHF  0.690 CHF     0.000 CHF                 0   \n",
       "66      DE*SNH        2.700 CHF  0.490 CHF     0.000 CHF                 0   \n",
       "68       CHEVP        1.500 CHF  0.540 CHF     0.000 CHF                 0   \n",
       "69      CH*AMA        1.500 CHF  0.540 CHF     0.000 CHF                 0   \n",
       "71      CH*AMA        1.500 CHF  0.450 CHF     0.000 CHF                 0   \n",
       "\n",
       "   dc_session_price   dc_price dc_time_price dc_fair_use_price  \n",
       "27        1.500 CHF  0.970 CHF     0.000 CHF                 0  \n",
       "64        1.500 CHF  0.800 CHF     0.000 CHF                 0  \n",
       "66        2.700 CHF  0.650 CHF     0.000 CHF                 0  \n",
       "68        1.500 CHF  0.540 CHF     0.000 CHF                 0  \n",
       "69        1.500 CHF  0.540 CHF     0.200 CHF                60  \n",
       "71        1.500 CHF  0.450 CHF     0.200 CHF                60  "
      ]
     },
     "execution_count": 5,
     "metadata": {},
     "output_type": "execute_result"
    }
   ],
   "source": [
    "# Show all duplicate external ids\n",
    "value_counts = raw['external_id'].value_counts(dropna=False)\n",
    "duplicate_external_ids = list(value_counts[value_counts >= 2].index)\n",
    "raw[raw['external_id'].isin(duplicate_external_ids)]"
   ]
  },
  {
   "cell_type": "code",
   "execution_count": 6,
   "id": "9e6dcf2f",
   "metadata": {},
   "outputs": [],
   "source": [
    "# Handled later in the script DE*SNH:\n",
    "# 65 --> price for all sub cpos\n",
    "# 63 --> price for the DE*SNH cpo (has the same id as external id)\n",
    "snh_sub_cpo_price = raw.iloc[64]\n",
    "raw = raw.drop(64)\n",
    "\n",
    "raw = raw.drop(27) # take the other, lower CHEVP price\n",
    "raw = raw.drop(69) # for zvolt"
   ]
  },
  {
   "cell_type": "code",
   "execution_count": 7,
   "id": "42bddf33",
   "metadata": {},
   "outputs": [
    {
     "name": "stdout",
     "output_type": "stream",
     "text": [
      "max value counts: 1\n"
     ]
    }
   ],
   "source": [
    "print('max value counts:', max(raw['external_id'].value_counts(dropna=False)))"
   ]
  },
  {
   "cell_type": "code",
   "execution_count": 8,
   "id": "39524618",
   "metadata": {},
   "outputs": [
    {
     "data": {
      "text/html": [
       "<div>\n",
       "<style scoped>\n",
       "    .dataframe tbody tr th:only-of-type {\n",
       "        vertical-align: middle;\n",
       "    }\n",
       "\n",
       "    .dataframe tbody tr th {\n",
       "        vertical-align: top;\n",
       "    }\n",
       "\n",
       "    .dataframe thead th {\n",
       "        text-align: right;\n",
       "    }\n",
       "</style>\n",
       "<table border=\"1\" class=\"dataframe\">\n",
       "  <thead>\n",
       "    <tr style=\"text-align: right;\">\n",
       "      <th></th>\n",
       "      <th>external_id</th>\n",
       "      <th>ac_session_price</th>\n",
       "      <th>ac_price</th>\n",
       "      <th>ac_time_price</th>\n",
       "      <th>ac_fair_use_price</th>\n",
       "      <th>dc_session_price</th>\n",
       "      <th>dc_price</th>\n",
       "      <th>dc_time_price</th>\n",
       "      <th>dc_fair_use_price</th>\n",
       "    </tr>\n",
       "  </thead>\n",
       "  <tbody>\n",
       "    <tr>\n",
       "      <th>40</th>\n",
       "      <td>+49*861</td>\n",
       "      <td>1.500 CHF</td>\n",
       "      <td>0.610 CHF</td>\n",
       "      <td>0.100 CHF</td>\n",
       "      <td>300</td>\n",
       "      <td>1.500 CHF</td>\n",
       "      <td>0.060 CHF</td>\n",
       "      <td>0.100 CHF</td>\n",
       "      <td>180</td>\n",
       "    </tr>\n",
       "  </tbody>\n",
       "</table>\n",
       "</div>"
      ],
      "text/plain": [
       "   external_id ac_session_price   ac_price ac_time_price ac_fair_use_price  \\\n",
       "40     +49*861        1.500 CHF  0.610 CHF     0.100 CHF               300   \n",
       "\n",
       "   dc_session_price   dc_price dc_time_price dc_fair_use_price  \n",
       "40        1.500 CHF  0.060 CHF     0.100 CHF               180  "
      ]
     },
     "execution_count": 8,
     "metadata": {},
     "output_type": "execute_result"
    }
   ],
   "source": [
    "raw[raw['external_id'] == '+49*861']"
   ]
  },
  {
   "cell_type": "markdown",
   "id": "52102615",
   "metadata": {},
   "source": [
    "# Import external cpo id mapping"
   ]
  },
  {
   "cell_type": "code",
   "execution_count": 9,
   "id": "30d05480",
   "metadata": {},
   "outputs": [
    {
     "name": "stdout",
     "output_type": "stream",
     "text": [
      "FILTERING OUT\n",
      "Sub cpo ids with length not 6:\n",
      "\n",
      "                                   name sub_cpo_id external_id\n",
      "86                    chargeIT mobility    +49*822      DE*BDO\n",
      "109  Compleo Charging Technologies GmbH    +49*809      DE*ISE\n",
      "227                           HUJ-Nobil   +358*899     +49*899\n",
      "228                           HUJ-Nobil    +46*899     +49*899\n",
      "229                           HUJ-Nobil    +47*899     +49*899\n",
      "327         Porsche Smart Mobility GmbH      AT911       DE911\n",
      "328         Porsche Smart Mobility GmbH      BE911       DE911\n",
      "329         Porsche Smart Mobility GmbH      CH911       DE911\n",
      "330         Porsche Smart Mobility GmbH      DE911       DE911\n",
      "331         Porsche Smart Mobility GmbH      ES911       DE911\n",
      "332         Porsche Smart Mobility GmbH      FR911       DE911\n",
      "333         Porsche Smart Mobility GmbH      GB911       DE911\n",
      "334         Porsche Smart Mobility GmbH      IT911       DE911\n",
      "335         Porsche Smart Mobility GmbH      LU911       DE911\n",
      "336         Porsche Smart Mobility GmbH      NL911       DE911\n",
      "337         Porsche Smart Mobility GmbH      NO911       DE911\n",
      "338         Porsche Smart Mobility GmbH      SE911       DE911\n",
      "438          Virtual Charging Point CPO      DESTA       DESTA\n",
      "452                       Wirelane GmbH      DEIPG      DE*WLN\n",
      "455                       Wirelane GmbH      DEWLN      DE*WLN\n",
      "\n",
      " 0 duplicate rows found\n"
     ]
    }
   ],
   "source": [
    "mapping = pd.read_csv('sub_cpo_mapping.csv')\n",
    "mapping.apply(lambda col: col.str.strip()) # remove spaces\n",
    "mapping['sub_cpo_id'].apply(lambda s: len(s)).value_counts(dropna=False)\n",
    "\n",
    "invalid_rows = mapping[mapping['sub_cpo_id'].apply(lambda s: len(s) != 6)]\n",
    "\n",
    "print('FILTERING OUT')\n",
    "print('Sub cpo ids with length not 6:\\n')\n",
    "print(invalid_rows)\n",
    "\n",
    "mapping = mapping.drop(invalid_rows.index)\n",
    "\n",
    "print('\\n', sum(mapping.duplicated()), 'duplicate rows found')"
   ]
  },
  {
   "cell_type": "markdown",
   "id": "fd35213c",
   "metadata": {},
   "source": [
    "# Map External id to Sub-cpo ids"
   ]
  },
  {
   "cell_type": "code",
   "execution_count": 10,
   "id": "b9f17dd3",
   "metadata": {},
   "outputs": [],
   "source": [
    "df = raw.merge(mapping, how='left', left_on='external_id', right_on='external_id')"
   ]
  },
  {
   "cell_type": "markdown",
   "id": "47b6ca32",
   "metadata": {},
   "source": [
    "### Fix stupidity"
   ]
  },
  {
   "cell_type": "code",
   "execution_count": 11,
   "id": "3e5c22bf",
   "metadata": {},
   "outputs": [
    {
     "data": {
      "text/html": [
       "<div>\n",
       "<style scoped>\n",
       "    .dataframe tbody tr th:only-of-type {\n",
       "        vertical-align: middle;\n",
       "    }\n",
       "\n",
       "    .dataframe tbody tr th {\n",
       "        vertical-align: top;\n",
       "    }\n",
       "\n",
       "    .dataframe thead th {\n",
       "        text-align: right;\n",
       "    }\n",
       "</style>\n",
       "<table border=\"1\" class=\"dataframe\">\n",
       "  <thead>\n",
       "    <tr style=\"text-align: right;\">\n",
       "      <th></th>\n",
       "      <th>external_id</th>\n",
       "      <th>ac_session_price</th>\n",
       "      <th>ac_price</th>\n",
       "      <th>ac_time_price</th>\n",
       "      <th>ac_fair_use_price</th>\n",
       "      <th>dc_session_price</th>\n",
       "      <th>dc_price</th>\n",
       "      <th>dc_time_price</th>\n",
       "      <th>dc_fair_use_price</th>\n",
       "      <th>name</th>\n",
       "      <th>sub_cpo_id</th>\n",
       "    </tr>\n",
       "  </thead>\n",
       "  <tbody>\n",
       "    <tr>\n",
       "      <th>222</th>\n",
       "      <td>DE*2GO</td>\n",
       "      <td>1.500 CHF</td>\n",
       "      <td>0.640 CHF</td>\n",
       "      <td>0.070 CHF</td>\n",
       "      <td>240</td>\n",
       "      <td>1.500 CHF</td>\n",
       "      <td>0.850 CHF</td>\n",
       "      <td>0.140 CHF</td>\n",
       "      <td>55</td>\n",
       "      <td>NaN</td>\n",
       "      <td>NaN</td>\n",
       "    </tr>\n",
       "    <tr>\n",
       "      <th>269</th>\n",
       "      <td>CH*GOF</td>\n",
       "      <td>1.500 CHF</td>\n",
       "      <td>0.540 CHF</td>\n",
       "      <td>0.000 CHF</td>\n",
       "      <td>0</td>\n",
       "      <td>1.500 CHF</td>\n",
       "      <td>0.540 CHF</td>\n",
       "      <td>0.000 CHF</td>\n",
       "      <td>0</td>\n",
       "      <td>NaN</td>\n",
       "      <td>NaN</td>\n",
       "    </tr>\n",
       "    <tr>\n",
       "      <th>271</th>\n",
       "      <td>CH*AMA</td>\n",
       "      <td>1.500 CHF</td>\n",
       "      <td>0.450 CHF</td>\n",
       "      <td>0.000 CHF</td>\n",
       "      <td>0</td>\n",
       "      <td>1.500 CHF</td>\n",
       "      <td>0.450 CHF</td>\n",
       "      <td>0.200 CHF</td>\n",
       "      <td>60</td>\n",
       "      <td>NaN</td>\n",
       "      <td>NaN</td>\n",
       "    </tr>\n",
       "  </tbody>\n",
       "</table>\n",
       "</div>"
      ],
      "text/plain": [
       "    external_id ac_session_price   ac_price ac_time_price ac_fair_use_price  \\\n",
       "222      DE*2GO        1.500 CHF  0.640 CHF     0.070 CHF               240   \n",
       "269      CH*GOF        1.500 CHF  0.540 CHF     0.000 CHF                 0   \n",
       "271      CH*AMA        1.500 CHF  0.450 CHF     0.000 CHF                 0   \n",
       "\n",
       "    dc_session_price   dc_price dc_time_price dc_fair_use_price name  \\\n",
       "222        1.500 CHF  0.850 CHF     0.140 CHF                55  NaN   \n",
       "269        1.500 CHF  0.540 CHF     0.000 CHF                 0  NaN   \n",
       "271        1.500 CHF  0.450 CHF     0.200 CHF                60  NaN   \n",
       "\n",
       "    sub_cpo_id  \n",
       "222        NaN  \n",
       "269        NaN  \n",
       "271        NaN  "
      ]
     },
     "execution_count": 11,
     "metadata": {},
     "output_type": "execute_result"
    }
   ],
   "source": [
    "sl = df[df['sub_cpo_id'].isna()]\n",
    "sl"
   ]
  },
  {
   "cell_type": "code",
   "execution_count": 12,
   "id": "5fb9695b",
   "metadata": {},
   "outputs": [],
   "source": [
    "# These external ids are actually sub-cpos and as such obviously don't map to more sub-cpos\n",
    "# Morons.\n",
    "\n",
    "# These are the real prices and should overwrite similar entries\n",
    "# We need to drop any other row with those external ids"
   ]
  },
  {
   "cell_type": "code",
   "execution_count": 13,
   "id": "7d6641ae",
   "metadata": {},
   "outputs": [],
   "source": [
    "# drop other row with same sub cpo id\n",
    "others = df.loc[df.index.difference(sl.index)]"
   ]
  },
  {
   "cell_type": "code",
   "execution_count": 14,
   "id": "17c27971",
   "metadata": {},
   "outputs": [
    {
     "name": "stdout",
     "output_type": "stream",
     "text": [
      "df length: 272\n",
      "to delete and replace with slice: 3\n",
      "others length: 269\n"
     ]
    }
   ],
   "source": [
    "print('df length:', len(df))\n",
    "print('to delete and replace with slice:', sum(others['sub_cpo_id'].isin(list(sl['external_id']))))\n",
    "print('others length:', len(others))"
   ]
  },
  {
   "cell_type": "code",
   "execution_count": 15,
   "id": "bad71806",
   "metadata": {},
   "outputs": [
    {
     "name": "stdout",
     "output_type": "stream",
     "text": [
      "others_cleaned length: 266\n",
      "new length: 269\n"
     ]
    },
    {
     "name": "stderr",
     "output_type": "stream",
     "text": [
      "/var/folders/5c/qfcpw_j92yx_4lnydrx1b2vh0000gn/T/ipykernel_36504/4081462832.py:4: SettingWithCopyWarning: \n",
      "A value is trying to be set on a copy of a slice from a DataFrame.\n",
      "Try using .loc[row_indexer,col_indexer] = value instead\n",
      "\n",
      "See the caveats in the documentation: https://pandas.pydata.org/pandas-docs/stable/user_guide/indexing.html#returning-a-view-versus-a-copy\n",
      "  sl['sub_cpo_id'] = sl['external_id']\n"
     ]
    }
   ],
   "source": [
    "others_cleaned = others[~others['sub_cpo_id'].isin(sl['external_id'])]\n",
    "print('others_cleaned length:', len(others_cleaned))\n",
    "# ignore warning\n",
    "sl['sub_cpo_id'] = sl['external_id']\n",
    "df = pd.concat([others_cleaned, sl])\n",
    "\n",
    "print('new length:', len(df))"
   ]
  },
  {
   "cell_type": "markdown",
   "id": "eb897e7b",
   "metadata": {},
   "source": [
    "## Check that all sub CPO ids have length 6"
   ]
  },
  {
   "cell_type": "code",
   "execution_count": 16,
   "id": "c1090026",
   "metadata": {},
   "outputs": [
    {
     "data": {
      "text/plain": [
       "6    269\n",
       "Name: sub_cpo_id, dtype: int64"
      ]
     },
     "execution_count": 16,
     "metadata": {},
     "output_type": "execute_result"
    }
   ],
   "source": [
    "df['sub_cpo_id'].apply(lambda s: len(s)).value_counts()"
   ]
  },
  {
   "cell_type": "code",
   "execution_count": 17,
   "id": "b88f6a08",
   "metadata": {},
   "outputs": [
    {
     "data": {
      "text/plain": [
       "external_id             DE*SNH\n",
       "ac_session_price     2.700 CHF\n",
       "ac_price             0.490 CHF\n",
       "ac_time_price        0.000 CHF\n",
       "ac_fair_use_price            0\n",
       "dc_session_price     2.700 CHF\n",
       "dc_price             0.650 CHF\n",
       "dc_time_price        0.000 CHF\n",
       "dc_fair_use_price            0\n",
       "Name: 66, dtype: object"
      ]
     },
     "execution_count": 17,
     "metadata": {},
     "output_type": "execute_result"
    }
   ],
   "source": [
    "snh_sub_cpo_price"
   ]
  },
  {
   "cell_type": "code",
   "execution_count": 18,
   "id": "9477c0f1",
   "metadata": {},
   "outputs": [
    {
     "data": {
      "text/html": [
       "<div>\n",
       "<style scoped>\n",
       "    .dataframe tbody tr th:only-of-type {\n",
       "        vertical-align: middle;\n",
       "    }\n",
       "\n",
       "    .dataframe tbody tr th {\n",
       "        vertical-align: top;\n",
       "    }\n",
       "\n",
       "    .dataframe thead th {\n",
       "        text-align: right;\n",
       "    }\n",
       "</style>\n",
       "<table border=\"1\" class=\"dataframe\">\n",
       "  <thead>\n",
       "    <tr style=\"text-align: right;\">\n",
       "      <th></th>\n",
       "      <th>external_id</th>\n",
       "      <th>ac_session_price</th>\n",
       "      <th>ac_price</th>\n",
       "      <th>ac_time_price</th>\n",
       "      <th>ac_fair_use_price</th>\n",
       "      <th>dc_session_price</th>\n",
       "      <th>dc_price</th>\n",
       "      <th>dc_time_price</th>\n",
       "      <th>dc_fair_use_price</th>\n",
       "      <th>name</th>\n",
       "      <th>sub_cpo_id</th>\n",
       "    </tr>\n",
       "  </thead>\n",
       "  <tbody>\n",
       "    <tr>\n",
       "      <th>223</th>\n",
       "      <td>DE*SNH</td>\n",
       "      <td>2.700 CHF</td>\n",
       "      <td>0.490 CHF</td>\n",
       "      <td>0.000 CHF</td>\n",
       "      <td>0</td>\n",
       "      <td>2.700 CHF</td>\n",
       "      <td>0.650 CHF</td>\n",
       "      <td>0.000 CHF</td>\n",
       "      <td>0</td>\n",
       "      <td>Stromnetz Hamburg GmbH</td>\n",
       "      <td>DE*SNH</td>\n",
       "    </tr>\n",
       "  </tbody>\n",
       "</table>\n",
       "</div>"
      ],
      "text/plain": [
       "    external_id ac_session_price   ac_price ac_time_price ac_fair_use_price  \\\n",
       "223      DE*SNH        2.700 CHF  0.490 CHF     0.000 CHF                 0   \n",
       "\n",
       "    dc_session_price   dc_price dc_time_price dc_fair_use_price  \\\n",
       "223        2.700 CHF  0.650 CHF     0.000 CHF                 0   \n",
       "\n",
       "                       name sub_cpo_id  \n",
       "223  Stromnetz Hamburg GmbH     DE*SNH  "
      ]
     },
     "execution_count": 18,
     "metadata": {},
     "output_type": "execute_result"
    }
   ],
   "source": [
    "df[df['sub_cpo_id'] == snh_sub_cpo_price['external_id']]"
   ]
  },
  {
   "cell_type": "markdown",
   "id": "31ce8509",
   "metadata": {},
   "source": [
    "# Stack AC and DC"
   ]
  },
  {
   "cell_type": "code",
   "execution_count": 19,
   "id": "ba63254f",
   "metadata": {},
   "outputs": [
    {
     "data": {
      "text/html": [
       "<div>\n",
       "<style scoped>\n",
       "    .dataframe tbody tr th:only-of-type {\n",
       "        vertical-align: middle;\n",
       "    }\n",
       "\n",
       "    .dataframe tbody tr th {\n",
       "        vertical-align: top;\n",
       "    }\n",
       "\n",
       "    .dataframe thead th {\n",
       "        text-align: right;\n",
       "    }\n",
       "</style>\n",
       "<table border=\"1\" class=\"dataframe\">\n",
       "  <thead>\n",
       "    <tr style=\"text-align: right;\">\n",
       "      <th></th>\n",
       "      <th>cpo_id</th>\n",
       "      <th>session_price</th>\n",
       "      <th>price</th>\n",
       "      <th>time_price</th>\n",
       "      <th>fair_use_price</th>\n",
       "      <th>plug_type</th>\n",
       "      <th>currency</th>\n",
       "      <th>group</th>\n",
       "    </tr>\n",
       "  </thead>\n",
       "  <tbody>\n",
       "    <tr>\n",
       "      <th>0</th>\n",
       "      <td>BEALLE</td>\n",
       "      <td>1.5</td>\n",
       "      <td>0.54</td>\n",
       "      <td>0.0</td>\n",
       "      <td>0</td>\n",
       "      <td>AC</td>\n",
       "      <td>CHF</td>\n",
       "      <td>RIGI_CUSTOMER</td>\n",
       "    </tr>\n",
       "    <tr>\n",
       "      <th>1</th>\n",
       "      <td>DEALLE</td>\n",
       "      <td>1.5</td>\n",
       "      <td>0.54</td>\n",
       "      <td>0.0</td>\n",
       "      <td>0</td>\n",
       "      <td>AC</td>\n",
       "      <td>CHF</td>\n",
       "      <td>RIGI_CUSTOMER</td>\n",
       "    </tr>\n",
       "    <tr>\n",
       "      <th>2</th>\n",
       "      <td>DKALLE</td>\n",
       "      <td>1.5</td>\n",
       "      <td>0.54</td>\n",
       "      <td>0.0</td>\n",
       "      <td>0</td>\n",
       "      <td>AC</td>\n",
       "      <td>CHF</td>\n",
       "      <td>RIGI_CUSTOMER</td>\n",
       "    </tr>\n",
       "    <tr>\n",
       "      <th>3</th>\n",
       "      <td>FRALLE</td>\n",
       "      <td>1.5</td>\n",
       "      <td>0.54</td>\n",
       "      <td>0.0</td>\n",
       "      <td>0</td>\n",
       "      <td>AC</td>\n",
       "      <td>CHF</td>\n",
       "      <td>RIGI_CUSTOMER</td>\n",
       "    </tr>\n",
       "    <tr>\n",
       "      <th>4</th>\n",
       "      <td>FRLPIE</td>\n",
       "      <td>1.5</td>\n",
       "      <td>0.54</td>\n",
       "      <td>0.0</td>\n",
       "      <td>0</td>\n",
       "      <td>AC</td>\n",
       "      <td>CHF</td>\n",
       "      <td>RIGI_CUSTOMER</td>\n",
       "    </tr>\n",
       "  </tbody>\n",
       "</table>\n",
       "</div>"
      ],
      "text/plain": [
       "   cpo_id  session_price  price  time_price fair_use_price plug_type currency  \\\n",
       "0  BEALLE            1.5   0.54         0.0              0        AC      CHF   \n",
       "1  DEALLE            1.5   0.54         0.0              0        AC      CHF   \n",
       "2  DKALLE            1.5   0.54         0.0              0        AC      CHF   \n",
       "3  FRALLE            1.5   0.54         0.0              0        AC      CHF   \n",
       "4  FRLPIE            1.5   0.54         0.0              0        AC      CHF   \n",
       "\n",
       "           group  \n",
       "0  RIGI_CUSTOMER  \n",
       "1  RIGI_CUSTOMER  \n",
       "2  RIGI_CUSTOMER  \n",
       "3  RIGI_CUSTOMER  \n",
       "4  RIGI_CUSTOMER  "
      ]
     },
     "execution_count": 19,
     "metadata": {},
     "output_type": "execute_result"
    }
   ],
   "source": [
    "def cond_map_to_dict_and_strip(l, affix):\n",
    "    return {c:c.strip(affix) for c in cols if affix in c}\n",
    "\n",
    "cols = list(columns.values())\n",
    "ac_pricing_columns = cond_map_to_dict_and_strip(cols, 'ac_')\n",
    "dc_pricing_columns = cond_map_to_dict_and_strip(cols, 'dc_')\n",
    "\n",
    "ac_columns = list(ac_pricing_columns.values()) + ['sub_cpo_id']\n",
    "dc_columns = list(dc_pricing_columns.values()) + ['sub_cpo_id']\n",
    "\n",
    "ac = df.rename(columns=ac_pricing_columns)[ac_columns]\n",
    "ac['plug_type'] = 'AC'\n",
    "\n",
    "dc = df.rename(columns=dc_pricing_columns)[dc_columns]\n",
    "dc['plug_type'] = 'DC'\n",
    "\n",
    "stacked = pd.concat([ac, dc], axis=0)\n",
    "stacked['currency'] = 'CHF'\n",
    "stacked['group'] = 'RIGI_CUSTOMER'\n",
    "\n",
    "col_rename = {'sub_cpo_id': 'cpo_id'}\n",
    "col_drop = ['external_id']\n",
    "\n",
    "stacked = stacked.rename(columns=col_rename)\n",
    "#stacked = stacked.drop(columns=col_drop)\n",
    "\n",
    "# format price columns\n",
    "price_columns = ['session_price', 'price', 'time_price']\n",
    "for col in price_columns:\n",
    "    stacked[col] = stacked[col].str.replace('CHF', '').str.strip().astype('float')\n",
    "\n",
    "# reorder columns\n",
    "ordered_cols = ['cpo_id', 'session_price', 'price', 'time_price', 'fair_use_price', 'plug_type', 'currency']\n",
    "stacked = stacked[ordered_cols]\n",
    "stacked['group'] = 'RIGI_CUSTOMER'\n",
    "\n",
    "stacked.head()"
   ]
  },
  {
   "cell_type": "markdown",
   "id": "c288b6e9",
   "metadata": {},
   "source": [
    "## Export"
   ]
  },
  {
   "cell_type": "code",
   "execution_count": 20,
   "id": "73f32f2c",
   "metadata": {},
   "outputs": [],
   "source": [
    "stacked.to_csv('rigi_prices_production.csv', index=False)"
   ]
  }
 ],
 "metadata": {
  "kernelspec": {
   "display_name": "Python 3 (ipykernel)",
   "language": "python",
   "name": "python3"
  },
  "language_info": {
   "codemirror_mode": {
    "name": "ipython",
    "version": 3
   },
   "file_extension": ".py",
   "mimetype": "text/x-python",
   "name": "python",
   "nbconvert_exporter": "python",
   "pygments_lexer": "ipython3",
   "version": "3.9.13"
  }
 },
 "nbformat": 4,
 "nbformat_minor": 5
}
